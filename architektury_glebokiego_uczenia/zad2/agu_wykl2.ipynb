{
  "cells": [
    {
      "cell_type": "markdown",
      "metadata": {
        "id": "IkcXXMw8ww2t"
      },
      "source": [
        "#Deep Learning Architectures Assignment 2\n",
        "The goal is to design and train a neural network for a regression task.\n",
        "Detailed requirements were presented during the last lecture.\n",
        "\n",
        "#Summary\n",
        "#Dataset\n",
        "* The dataset contains 2210 examples.\n",
        "* Each example consists of 2500 time steps.\n",
        "* In each time step, 8 values are recorded.\n",
        "* The result consists of two real numbers representing the coordinates.\n",
        "\n",
        "##TODO:\n",
        "* Split the dataset into three sets: test, validation, and training.\n",
        "* Choose an architecture and design the model.\n",
        "* Design the training procedure.\n",
        "* Present the results. \\\\\n",
        "// A correctly trained model should make predictions with an average error of < 2.\n",
        "\n",
        "##What will be evaluated:\n",
        "* Understanding of the topic, exploration of the dataset, justification of architecture choice [5 points]\n",
        "* Correctness of the training implementation [5 points]\n",
        "* Error obtained on test and validation data [5 points]\n",
        "* Presentation of the achieved results [5 points]\n",
        "\n",
        "\n",
        "##Extended task for extra points:\n",
        "* Design a model for noisy data.\n",
        "* To add noise, use the addNoise function.\n",
        "* Start tests with low noise: 0.01 or 0.001."
      ]
    },
    {
      "cell_type": "code",
      "execution_count": 69,
      "metadata": {
        "id": "iAUUBld7wTiS"
      },
      "outputs": [],
      "source": [
        "from urllib.request import urlopen\n",
        "import pickle\n",
        "import os\n",
        "\n",
        "def download_part(filename):\n",
        "  base_url = f\"https://github.com/pa-k/AGU/blob/main/assignment2/{filename}?raw=true\"\n",
        "  url = urlopen(base_url)\n",
        "  binary_data = url.read()\n",
        "  with open(filename,\"wb\") as f:\n",
        "    f.write(binary_data)\n",
        "\n",
        "def loadDataset():\n",
        "    parts = [\"DLAA2.0.pkl\", \"DLAA2.1.pkl\", \"DLAA2.2.pkl\", \"DLAA2.3.pkl\"]\n",
        "    cData = b''\n",
        "    for part in parts:\n",
        "        if not os.path.exists(part):\n",
        "          download_part(part)\n",
        "        with open(part, \"rb\") as f:\n",
        "            cData += pickle.load(f)\n",
        "    return pickle.loads(cData)\n",
        "\n",
        "def addNoise(input, noiseLevel=0.1):\n",
        "  shape = input.shape\n",
        "  noise = np.random.randn(*shape)*noiseLevel*np.max(input)\n",
        "  return input+noise\n"
      ]
    },
    {
      "cell_type": "markdown",
      "metadata": {
        "id": "obxK-NnJwfOi"
      },
      "source": [
        "##Load dataset"
      ]
    },
    {
      "cell_type": "code",
      "execution_count": 70,
      "metadata": {
        "colab": {
          "base_uri": "https://localhost:8080/"
        },
        "id": "4mTJ6PHhwee_",
        "outputId": "aa2ff93d-22e1-4c14-b681-4da4bf3d8f0d"
      },
      "outputs": [
        {
          "name": "stdout",
          "output_type": "stream",
          "text": [
            "(2210, 2500, 8)\n",
            "(2210, 2)\n",
            "[23 14]\n"
          ]
        }
      ],
      "source": [
        "x, y = loadDataset()\n",
        "print(x.shape)\n",
        "print(y.shape)\n",
        "print(y[1000])"
      ]
    },
    {
      "cell_type": "markdown",
      "metadata": {
        "id": "ETL1vvFzwiuo"
      },
      "source": [
        "# Your solution"
      ]
    },
    {
      "cell_type": "markdown",
      "metadata": {
        "id": "DACJmoKcvZvP"
      },
      "source": [
        "Imports"
      ]
    },
    {
      "cell_type": "code",
      "execution_count": 71,
      "metadata": {
        "id": "BPus7vdSwoSf"
      },
      "outputs": [],
      "source": [
        "from sklearn.preprocessing import StandardScaler\n",
        "import torch\n",
        "from torch.utils.data import DataLoader, TensorDataset\n",
        "import torch.nn as nn\n",
        "import torch.optim as optim\n",
        "import matplotlib.pyplot as plt\n",
        "import numpy as np"
      ]
    },
    {
      "cell_type": "markdown",
      "metadata": {
        "id": "JOMT3-N0yCu1"
      },
      "source": [
        "Data preprocessing"
      ]
    },
    {
      "cell_type": "code",
      "execution_count": 72,
      "metadata": {
        "id": "-0uLCry8yEfj"
      },
      "outputs": [],
      "source": [
        "total_samples = len(x)\n",
        "train_ratio=0.7\n",
        "val_ratio=0.15\n",
        "test_ratio=0.15\n",
        "\n",
        "train_size = int(total_samples * train_ratio)\n",
        "val_size = int(total_samples * val_ratio)\n",
        "test_size = total_samples - train_size - val_size\n",
        "\n",
        "# Create random indices for splitting\n",
        "indices = np.random.permutation(total_samples)\n",
        "\n",
        "train_indices = indices[:train_size]\n",
        "val_indices = indices[train_size:train_size + val_size]\n",
        "test_indices = indices[train_size + val_size:]\n",
        "\n",
        "x_train, y_train = x[train_indices], y[train_indices]\n",
        "x_val, y_val = x[val_indices], y[val_indices]\n",
        "x_test, y_test = x[test_indices], y[test_indices]\n",
        "\n",
        "scaler = StandardScaler()\n",
        "x_train_normalized = scaler.fit_transform(x_train.reshape(-1, x_train.shape[-1])).reshape(x_train.shape)\n",
        "x_val_normalized = scaler.transform(x_val.reshape(-1, x_val.shape[-1])).reshape(x_val.shape)\n",
        "x_test_normalized = scaler.transform(x_test.reshape(-1, x_test.shape[-1])).reshape(x_test.shape)\n",
        "\n",
        "# Convert to PyTorch tensors\n",
        "x_train_tensor = torch.tensor(x_train_normalized, dtype=torch.float32)\n",
        "y_train_tensor = torch.tensor(y_train, dtype=torch.float32)\n",
        "x_val_tensor = torch.tensor(x_val_normalized, dtype=torch.float32)\n",
        "y_val_tensor = torch.tensor(y_val, dtype=torch.float32)\n",
        "x_test_tensor = torch.tensor(x_test_normalized, dtype=torch.float32)\n",
        "y_test_tensor = torch.tensor(y_test, dtype=torch.float32)\n",
        "\n",
        "# Create DataLoader\n",
        "train_dataset = TensorDataset(x_train_tensor, y_train_tensor)\n",
        "val_dataset = TensorDataset(x_val_tensor, y_val_tensor)\n",
        "test_dataset = TensorDataset(x_test_tensor, y_test_tensor)\n",
        "\n",
        "batch_size = 32\n",
        "train_loader = DataLoader(train_dataset, batch_size=batch_size, shuffle=True)\n",
        "val_loader = DataLoader(val_dataset, batch_size=batch_size)\n",
        "test_loader = DataLoader(test_dataset, batch_size=batch_size)\n"
      ]
    },
    {
      "cell_type": "markdown",
      "metadata": {
        "id": "aszAmfB5yf7y"
      },
      "source": [
        "Neural network architecture"
      ]
    },
    {
      "cell_type": "code",
      "execution_count": 73,
      "metadata": {
        "id": "26cUxJoXyh6E"
      },
      "outputs": [],
      "source": [
        "import torch.nn.functional as F\n",
        "\n",
        "class RegressionModel(nn.Module):\n",
        "    def __init__(self):\n",
        "        super(RegressionModel, self).__init__()\n",
        "        self.fc1 = nn.Linear(2500 * 8, 2048)\n",
        "        self.fc2 = nn.Linear(2048, 1024)\n",
        "        self.fc3 = nn.Linear(1024, 512)\n",
        "        self.fc4 = nn.Linear(512, 256)\n",
        "        self.fc5 = nn.Linear(256, 128)\n",
        "        self.fc6 = nn.Linear(128, 64)\n",
        "        self.fc7 = nn.Linear(64, 2)\n",
        "        self.dropout = nn.Dropout(0.5)\n",
        "        self.batch_norm1 = nn.BatchNorm1d(2048)\n",
        "        self.batch_norm2 = nn.BatchNorm1d(1024)\n",
        "\n",
        "    def forward(self, x):\n",
        "        x = x.view(x.size(0), -1)\n",
        "        x = F.relu(self.fc1(x))\n",
        "        x = self.batch_norm1(x)\n",
        "        x = self.dropout(x)\n",
        "        x = F.relu(self.fc2(x))\n",
        "        x = self.batch_norm2(x)\n",
        "        x = self.dropout(x)\n",
        "        x = F.relu(self.fc3(x))\n",
        "        x = self.dropout(x)\n",
        "        x = F.relu(self.fc4(x))\n",
        "        x = F.relu(self.fc5(x))\n",
        "        x = F.relu(self.fc6(x))\n",
        "        x = self.fc7(x)\n",
        "        return x\n",
        "\n",
        "device = torch.device(\"cuda\" if torch.cuda.is_available() else \"cpu\")\n",
        "\n",
        "model = RegressionModel()\n",
        "model.to(device)\n",
        "criterion = nn.MSELoss()\n",
        "optimizer = optim.Adam(model.parameters())\n",
        "num_epochs = 100"
      ]
    },
    {
      "cell_type": "markdown",
      "metadata": {
        "id": "d2n2lRYEyy6J"
      },
      "source": [
        "Training the model"
      ]
    },
    {
      "cell_type": "code",
      "execution_count": 74,
      "metadata": {
        "colab": {
          "base_uri": "https://localhost:8080/"
        },
        "id": "yAQS--MWy0KB",
        "outputId": "ead6366d-0305-4328-bb65-44023c74e60f"
      },
      "outputs": [
        {
          "name": "stdout",
          "output_type": "stream",
          "text": [
            "Epoch 1/100, Train Loss: 337.19040132015846, Val Loss: 520.5409964477908\n",
            "Epoch 2/100, Train Loss: 149.55820693427236, Val Loss: 198.82753336465612\n",
            "Epoch 3/100, Train Loss: 129.00396430638813, Val Loss: 461.8034380310612\n",
            "Epoch 4/100, Train Loss: 106.80172944022674, Val Loss: 212.596569418547\n",
            "Epoch 5/100, Train Loss: 91.29700772286078, Val Loss: 310.75992964545765\n",
            "Epoch 6/100, Train Loss: 76.22310764186984, Val Loss: 330.89050145451756\n",
            "Epoch 7/100, Train Loss: 68.77121845829772, Val Loss: 239.45259080408562\n",
            "Epoch 8/100, Train Loss: 61.25132134011582, Val Loss: 242.90145892463062\n",
            "Epoch 9/100, Train Loss: 53.127492698763135, Val Loss: 196.54897398242778\n",
            "Epoch 10/100, Train Loss: 45.69089035103224, Val Loss: 176.32000990576614\n",
            "Epoch 11/100, Train Loss: 40.758096180812885, Val Loss: 191.92800912540125\n",
            "Epoch 12/100, Train Loss: 45.06154760793478, Val Loss: 169.98510995732335\n",
            "Epoch 13/100, Train Loss: 40.99139033183793, Val Loss: 176.68461774843337\n",
            "Epoch 14/100, Train Loss: 37.53985845495519, Val Loss: 164.07460482963262\n",
            "Epoch 15/100, Train Loss: 32.46114993696453, Val Loss: 130.81962728356308\n",
            "Epoch 16/100, Train Loss: 32.49317506150268, Val Loss: 179.88702484776246\n",
            "Epoch 17/100, Train Loss: 33.973102581909416, Val Loss: 133.6634399782855\n",
            "Epoch 18/100, Train Loss: 32.944561711109756, Val Loss: 156.71423630267833\n",
            "Epoch 19/100, Train Loss: 29.642474146758502, Val Loss: 136.78400059264953\n",
            "Epoch 20/100, Train Loss: 27.952643872232073, Val Loss: 164.1452011615488\n",
            "Epoch 21/100, Train Loss: 31.828825448202025, Val Loss: 279.32031701770796\n",
            "Epoch 22/100, Train Loss: 30.206173206963072, Val Loss: 125.19852993783634\n",
            "Epoch 23/100, Train Loss: 29.476354606396626, Val Loss: 198.28276684349038\n",
            "Epoch 24/100, Train Loss: 31.66590934117224, Val Loss: 193.5733511656793\n",
            "Epoch 25/100, Train Loss: 28.486121902021964, Val Loss: 109.97504063171202\n",
            "Epoch 26/100, Train Loss: 27.912003179943476, Val Loss: 125.34850267485189\n",
            "Epoch 27/100, Train Loss: 30.39381151254823, Val Loss: 135.272410735623\n",
            "Epoch 28/100, Train Loss: 25.91116901636894, Val Loss: 62.996037463046996\n",
            "Epoch 29/100, Train Loss: 25.93201879292977, Val Loss: 82.78070169777308\n",
            "Epoch 30/100, Train Loss: 23.32931914203153, Val Loss: 108.9118718495902\n",
            "Epoch 31/100, Train Loss: 22.72410028059404, Val Loss: 142.385050839888\n",
            "Epoch 32/100, Train Loss: 22.4132927350252, Val Loss: 110.34005043513825\n",
            "Epoch 33/100, Train Loss: 24.45710203889577, Val Loss: 125.39043096905388\n",
            "Epoch 34/100, Train Loss: 21.40659680209317, Val Loss: 110.75363018577552\n",
            "Epoch 35/100, Train Loss: 20.815504388494805, Val Loss: 103.4494025008556\n",
            "Epoch 36/100, Train Loss: 20.77330518893912, Val Loss: 132.79225555143327\n",
            "Epoch 37/100, Train Loss: 20.79094008992546, Val Loss: 182.54144038174448\n",
            "Epoch 38/100, Train Loss: 19.76845670871451, Val Loss: 133.12598686564004\n",
            "Epoch 39/100, Train Loss: 20.83428192508552, Val Loss: 125.70490769677292\n",
            "Epoch 40/100, Train Loss: 20.345346454504465, Val Loss: 182.66118402855633\n",
            "Epoch 41/100, Train Loss: 18.91300265898455, Val Loss: 143.90865019368982\n",
            "Epoch 42/100, Train Loss: 19.648392626140375, Val Loss: 107.77776318230298\n",
            "Epoch 43/100, Train Loss: 18.718739083603882, Val Loss: 107.01325486289771\n",
            "Epoch 44/100, Train Loss: 17.24065364154601, Val Loss: 120.82185638058942\n",
            "Epoch 45/100, Train Loss: 18.214394634126, Val Loss: 184.5721146505765\n",
            "Epoch 46/100, Train Loss: 17.93988114044446, Val Loss: 121.61100540852618\n",
            "Epoch 47/100, Train Loss: 17.537355098712037, Val Loss: 206.36440957060753\n",
            "Epoch 48/100, Train Loss: 18.77005366009131, Val Loss: 112.33207972316224\n",
            "Epoch 49/100, Train Loss: 17.661214173803348, Val Loss: 110.59638921731909\n",
            "Epoch 50/100, Train Loss: 17.67412642470929, Val Loss: 126.26711976204034\n",
            "Epoch 51/100, Train Loss: 19.077726205087277, Val Loss: 186.58201967913578\n",
            "Epoch 52/100, Train Loss: 17.628241422489218, Val Loss: 151.01313804787813\n",
            "Epoch 53/100, Train Loss: 18.34117472857603, Val Loss: 137.8443828479041\n",
            "Epoch 54/100, Train Loss: 16.349804139091034, Val Loss: 192.73601709463804\n",
            "Epoch 55/100, Train Loss: 17.031440937064428, Val Loss: 142.57028638488217\n",
            "Epoch 56/100, Train Loss: 17.630332163247896, Val Loss: 149.05256952475926\n",
            "Epoch 57/100, Train Loss: 17.287659497744976, Val Loss: 160.67495125946323\n",
            "Epoch 58/100, Train Loss: 18.493220768825577, Val Loss: 94.15712921280875\n",
            "Epoch 59/100, Train Loss: 15.15287597301165, Val Loss: 118.33748645148609\n",
            "Epoch 60/100, Train Loss: 16.023152419190755, Val Loss: 112.68512119627431\n",
            "Epoch 61/100, Train Loss: 14.738212280914563, Val Loss: 129.8054204520142\n",
            "Epoch 62/100, Train Loss: 16.894208562859582, Val Loss: 210.98178404839737\n",
            "Epoch 63/100, Train Loss: 15.319928675369825, Val Loss: 127.35017639344552\n",
            "Epoch 64/100, Train Loss: 16.351677517931, Val Loss: 116.03714039966779\n",
            "Epoch 65/100, Train Loss: 20.840930440615438, Val Loss: 108.80000047021042\n",
            "Epoch 66/100, Train Loss: 17.419020184872608, Val Loss: 173.04664745503683\n",
            "Epoch 67/100, Train Loss: 15.78262803287913, Val Loss: 229.2250799542107\n",
            "Epoch 68/100, Train Loss: 16.508124323760455, Val Loss: 165.01083749730782\n",
            "Epoch 69/100, Train Loss: 16.126222777536167, Val Loss: 132.1274241075775\n",
            "Epoch 70/100, Train Loss: 15.334930659111038, Val Loss: 97.74520303547563\n",
            "Epoch 71/100, Train Loss: 14.89039733137095, Val Loss: 112.35484588254255\n",
            "Epoch 72/100, Train Loss: 16.72540128346636, Val Loss: 129.07611729371223\n",
            "Epoch 73/100, Train Loss: 14.8731378272956, Val Loss: 176.99071767755146\n",
            "Epoch 74/100, Train Loss: 12.69581985227046, Val Loss: 109.85859804643245\n",
            "Epoch 75/100, Train Loss: 17.008837156782786, Val Loss: 118.3349286912071\n",
            "Epoch 76/100, Train Loss: 16.21522542192771, Val Loss: 128.74746623428206\n",
            "Epoch 77/100, Train Loss: 14.048849430096558, Val Loss: 139.9166501555198\n",
            "Epoch 78/100, Train Loss: 15.223013929035407, Val Loss: 141.54137585458437\n",
            "Epoch 79/100, Train Loss: 13.986700266349215, Val Loss: 132.2094410092449\n",
            "Epoch 80/100, Train Loss: 12.937204782008816, Val Loss: 104.43104156770735\n",
            "Epoch 81/100, Train Loss: 14.590613987804923, Val Loss: 145.7779681156769\n",
            "Epoch 82/100, Train Loss: 13.909336452570436, Val Loss: 125.19638441840688\n",
            "Epoch 83/100, Train Loss: 14.933278656499033, Val Loss: 162.93755603340819\n"
          ]
        }
      ],
      "source": [
        "for epoch in range(num_epochs):\n",
        "    model.train()\n",
        "    train_loss = 0.0\n",
        "    for inputs, targets in train_loader:\n",
        "        inputs, targets = inputs.to(device), targets.to(device)\n",
        "        optimizer.zero_grad()\n",
        "        outputs = model(inputs)\n",
        "        loss = criterion(outputs, targets)\n",
        "        loss.backward()\n",
        "        optimizer.step()\n",
        "        train_loss += loss.item() * inputs.size(0)\n",
        "\n",
        "    # Validation\n",
        "    model.eval()\n",
        "    val_loss = 0.0\n",
        "    with torch.no_grad():\n",
        "        for inputs, targets in val_loader:\n",
        "            inputs, targets = inputs.to(device), targets.to(device)\n",
        "            outputs = model(inputs)\n",
        "            loss = criterion(outputs, targets)\n",
        "            val_loss += loss.item() * inputs.size(0)\n",
        "\n",
        "    # Print training and validation loss\n",
        "    print(f'Epoch {epoch+1}/{num_epochs}, Train Loss: {train_loss/len(train_loader.dataset)}, Val Loss: {val_loss/len(val_loader.dataset)}')"
      ]
    },
    {
      "cell_type": "markdown",
      "metadata": {
        "id": "Y2hJrfwXzJSp"
      },
      "source": [
        "Evaluate the model"
      ]
    },
    {
      "cell_type": "code",
      "execution_count": null,
      "metadata": {
        "colab": {
          "base_uri": "https://localhost:8080/"
        },
        "id": "dOz0zSpSzKnL",
        "outputId": "deafe282-7cea-4143-f1f9-12d49dc97538"
      },
      "outputs": [
        {
          "name": "stdout",
          "output_type": "stream",
          "text": [
            "Test Loss: 339.8206\n"
          ]
        }
      ],
      "source": [
        "test_loss = 0.0\n",
        "with torch.no_grad():\n",
        "    for X_batch, y_batch in test_loader:\n",
        "        X_batch, y_batch = X_batch.to(device), y_batch.to(device)\n",
        "        outputs = model(X_batch)\n",
        "        loss = criterion(outputs, y_batch)\n",
        "        test_loss += loss.item() * X_batch.size(0)\n",
        "\n",
        "test_loss /= len(test_loader.dataset)\n",
        "print(f'Test Loss: {test_loss:.4f}')"
      ]
    }
  ],
  "metadata": {
    "accelerator": "GPU",
    "colab": {
      "gpuType": "T4",
      "provenance": []
    },
    "kernelspec": {
      "display_name": "Python 3",
      "name": "python3"
    },
    "language_info": {
      "codemirror_mode": {
        "name": "ipython",
        "version": 3
      },
      "file_extension": ".py",
      "mimetype": "text/x-python",
      "name": "python",
      "nbconvert_exporter": "python",
      "pygments_lexer": "ipython3",
      "version": "3.12.3"
    }
  },
  "nbformat": 4,
  "nbformat_minor": 0
}
