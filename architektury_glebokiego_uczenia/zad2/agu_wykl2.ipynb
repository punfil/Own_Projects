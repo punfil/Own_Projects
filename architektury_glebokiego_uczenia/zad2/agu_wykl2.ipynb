{
  "cells": [
    {
      "cell_type": "markdown",
      "metadata": {
        "id": "IkcXXMw8ww2t"
      },
      "source": [
        "#Deep Learning Architectures Assignment 2\n",
        "The goal is to design and train a neural network for a regression task.\n",
        "Detailed requirements were presented during the last lecture.\n",
        "\n",
        "#Summary\n",
        "#Dataset\n",
        "* The dataset contains 2210 examples.\n",
        "* Each example consists of 2500 time steps.\n",
        "* In each time step, 8 values are recorded.\n",
        "* The result consists of two real numbers representing the coordinates.\n",
        "\n",
        "##TODO:\n",
        "* Split the dataset into three sets: test, validation, and training.\n",
        "* Choose an architecture and design the model.\n",
        "* Design the training procedure.\n",
        "* Present the results. \\\\\n",
        "// A correctly trained model should make predictions with an average error of < 2.\n",
        "\n",
        "##What will be evaluated:\n",
        "* Understanding of the topic, exploration of the dataset, justification of architecture choice [5 points]\n",
        "* Correctness of the training implementation [5 points]\n",
        "* Error obtained on test and validation data [5 points]\n",
        "* Presentation of the achieved results [5 points]\n",
        "\n",
        "\n",
        "##Extended task for extra points:\n",
        "* Design a model for noisy data.\n",
        "* To add noise, use the addNoise function.\n",
        "* Start tests with low noise: 0.01 or 0.001."
      ]
    },
    {
      "cell_type": "code",
      "execution_count": 8,
      "metadata": {
        "id": "iAUUBld7wTiS"
      },
      "outputs": [],
      "source": [
        "from urllib.request import urlopen\n",
        "import pickle\n",
        "import os\n",
        "\n",
        "def download_part(filename):\n",
        "  base_url = f\"https://github.com/pa-k/AGU/blob/main/assignment2/{filename}?raw=true\"\n",
        "  url = urlopen(base_url)\n",
        "  binary_data = url.read()\n",
        "  with open(filename,\"wb\") as f:\n",
        "    f.write(binary_data)\n",
        "\n",
        "def loadDataset():\n",
        "    parts = [\"DLAA2.0.pkl\", \"DLAA2.1.pkl\", \"DLAA2.2.pkl\", \"DLAA2.3.pkl\"]\n",
        "    cData = b''\n",
        "    for part in parts:\n",
        "        if not os.path.exists(part):\n",
        "          download_part(part)\n",
        "        with open(part, \"rb\") as f:\n",
        "            cData += pickle.load(f)\n",
        "    return pickle.loads(cData)\n",
        "\n",
        "def addNoise(input, noiseLevel=0.1):\n",
        "  shape = input.shape\n",
        "  noise = np.random.randn(*shape)*noiseLevel*np.max(input)\n",
        "  return input+noise\n"
      ]
    },
    {
      "cell_type": "markdown",
      "metadata": {
        "id": "obxK-NnJwfOi"
      },
      "source": [
        "##Load dataset"
      ]
    },
    {
      "cell_type": "code",
      "execution_count": 9,
      "metadata": {
        "colab": {
          "base_uri": "https://localhost:8080/"
        },
        "id": "4mTJ6PHhwee_",
        "outputId": "aa2ff93d-22e1-4c14-b681-4da4bf3d8f0d"
      },
      "outputs": [
        {
          "name": "stdout",
          "output_type": "stream",
          "text": [
            "(2210, 2500, 8)\n",
            "(2210, 2)\n",
            "[23 14]\n"
          ]
        }
      ],
      "source": [
        "x, y = loadDataset()\n",
        "print(x.shape)\n",
        "print(y.shape)\n",
        "print(y[1000])"
      ]
    },
    {
      "cell_type": "markdown",
      "metadata": {
        "id": "ETL1vvFzwiuo"
      },
      "source": [
        "# Your solution"
      ]
    },
    {
      "cell_type": "markdown",
      "metadata": {
        "id": "DACJmoKcvZvP"
      },
      "source": [
        "Imports"
      ]
    },
    {
      "cell_type": "code",
      "execution_count": 10,
      "metadata": {
        "id": "BPus7vdSwoSf"
      },
      "outputs": [],
      "source": [
        "from sklearn.preprocessing import StandardScaler\n",
        "import torch\n",
        "from torch.utils.data import DataLoader, TensorDataset\n",
        "import torch.nn as nn\n",
        "import torch.optim as optim\n",
        "import matplotlib.pyplot as plt\n",
        "import numpy as np"
      ]
    },
    {
      "cell_type": "markdown",
      "metadata": {
        "id": "JOMT3-N0yCu1"
      },
      "source": [
        "Data preprocessing"
      ]
    },
    {
      "cell_type": "code",
      "execution_count": 11,
      "metadata": {
        "id": "-0uLCry8yEfj"
      },
      "outputs": [],
      "source": [
        "total_samples = len(x)\n",
        "train_ratio=0.7\n",
        "val_ratio=0.15\n",
        "test_ratio=0.15\n",
        "\n",
        "train_size = int(total_samples * train_ratio)\n",
        "val_size = int(total_samples * val_ratio)\n",
        "test_size = total_samples - train_size - val_size\n",
        "\n",
        "# Create random indices for splitting\n",
        "indices = np.random.permutation(total_samples)\n",
        "\n",
        "train_indices = indices[:train_size]\n",
        "val_indices = indices[train_size:train_size + val_size]\n",
        "test_indices = indices[train_size + val_size:]\n",
        "\n",
        "x_train, y_train = x[train_indices], y[train_indices]\n",
        "x_val, y_val = x[val_indices], y[val_indices]\n",
        "x_test, y_test = x[test_indices], y[test_indices]\n",
        "\n",
        "scaler = StandardScaler()\n",
        "x_train_normalized = scaler.fit_transform(x_train.reshape(-1, x_train.shape[-1])).reshape(x_train.shape)\n",
        "x_val_normalized = scaler.transform(x_val.reshape(-1, x_val.shape[-1])).reshape(x_val.shape)\n",
        "x_test_normalized = scaler.transform(x_test.reshape(-1, x_test.shape[-1])).reshape(x_test.shape)\n",
        "\n",
        "# Convert to PyTorch tensors\n",
        "x_train_tensor = torch.tensor(x_train_normalized, dtype=torch.float32)\n",
        "y_train_tensor = torch.tensor(y_train, dtype=torch.float32)\n",
        "x_val_tensor = torch.tensor(x_val_normalized, dtype=torch.float32)\n",
        "y_val_tensor = torch.tensor(y_val, dtype=torch.float32)\n",
        "x_test_tensor = torch.tensor(x_test_normalized, dtype=torch.float32)\n",
        "y_test_tensor = torch.tensor(y_test, dtype=torch.float32)\n",
        "\n",
        "# Create DataLoader\n",
        "train_dataset = TensorDataset(x_train_tensor, y_train_tensor)\n",
        "val_dataset = TensorDataset(x_val_tensor, y_val_tensor)\n",
        "test_dataset = TensorDataset(x_test_tensor, y_test_tensor)\n",
        "\n",
        "batch_size = 32\n",
        "train_loader = DataLoader(train_dataset, batch_size=batch_size, shuffle=True)\n",
        "val_loader = DataLoader(val_dataset, batch_size=batch_size)\n",
        "test_loader = DataLoader(test_dataset, batch_size=batch_size)\n"
      ]
    },
    {
      "cell_type": "markdown",
      "metadata": {
        "id": "aszAmfB5yf7y"
      },
      "source": [
        "Neural network architecture"
      ]
    },
    {
      "cell_type": "code",
      "execution_count": 22,
      "metadata": {
        "id": "26cUxJoXyh6E"
      },
      "outputs": [],
      "source": [
        "import torch.nn.functional as F\n",
        "\n",
        "class RegressionModel(nn.Module):\n",
        "    def __init__(self):\n",
        "        super(RegressionModel, self).__init__()\n",
        "        self.fc1 = nn.Linear(2500 * 8, 256)\n",
        "        self.fc2 = nn.Linear(256, 128)\n",
        "        self.fc3 = nn.Linear(128, 64)\n",
        "        self.fc4 = nn.Linear(64, 2)\n",
        "        self.dropout = nn.Dropout(0.5)\n",
        "        self.batch_norm1 = nn.BatchNorm1d(256)\n",
        "        self.batch_norm2 = nn.BatchNorm1d(128)\n",
        "\n",
        "    def forward(self, x):\n",
        "        x = x.view(x.size(0), -1)\n",
        "        x = F.relu(self.fc1(x))\n",
        "        x = self.batch_norm1(x)\n",
        "        x = self.dropout(x)\n",
        "        x = F.relu(self.fc2(x))\n",
        "        x = self.batch_norm2(x)\n",
        "        x = self.dropout(x)\n",
        "        x = F.relu(self.fc3(x))\n",
        "        x = self.dropout(x)\n",
        "        x = self.fc4(x)\n",
        "        return x\n",
        "\n",
        "device = torch.device(\"cuda\" if torch.cuda.is_available() else \"cpu\")\n",
        "\n",
        "model = RegressionModel()\n",
        "model.to(device)\n",
        "criterion = nn.MSELoss()\n",
        "optimizer = optim.Adam(model.parameters(), lr=0.001)\n",
        "num_epochs = 100"
      ]
    },
    {
      "cell_type": "markdown",
      "metadata": {
        "id": "d2n2lRYEyy6J"
      },
      "source": [
        "Training the model"
      ]
    },
    {
      "cell_type": "code",
      "execution_count": 24,
      "metadata": {
        "colab": {
          "base_uri": "https://localhost:8080/"
        },
        "id": "yAQS--MWy0KB",
        "outputId": "ead6366d-0305-4328-bb65-44023c74e60f"
      },
      "outputs": [
        {
          "name": "stdout",
          "output_type": "stream",
          "text": [
            "Epoch 1/100, Train Loss: 188.91809853354653, Val Loss: 176.4780437550156\n",
            "Epoch 2/100, Train Loss: 189.032398670199, Val Loss: 179.8919231956459\n",
            "Epoch 3/100, Train Loss: 185.73467709837843, Val Loss: 171.46250348508897\n",
            "Epoch 4/100, Train Loss: 183.13333524421637, Val Loss: 169.32749862901395\n",
            "Epoch 5/100, Train Loss: 184.75646382820707, Val Loss: 170.47138947086393\n",
            "Epoch 6/100, Train Loss: 178.97526669640965, Val Loss: 174.62096266732115\n",
            "Epoch 7/100, Train Loss: 176.8474473022382, Val Loss: 165.24672150395787\n",
            "Epoch 8/100, Train Loss: 173.18943428577109, Val Loss: 167.73638916015625\n",
            "Epoch 9/100, Train Loss: 170.30710712770684, Val Loss: 166.62539924091442\n",
            "Epoch 10/100, Train Loss: 172.18656155981398, Val Loss: 161.05383791736244\n",
            "Epoch 11/100, Train Loss: 173.10936353864713, Val Loss: 162.6018749363833\n",
            "Epoch 12/100, Train Loss: 169.79457159356755, Val Loss: 167.89467086100507\n",
            "Epoch 13/100, Train Loss: 165.371827345628, Val Loss: 166.79812705048622\n",
            "Epoch 14/100, Train Loss: 167.28855401836216, Val Loss: 160.94658128444522\n",
            "Epoch 15/100, Train Loss: 165.04819789854417, Val Loss: 159.05881956624842\n",
            "Epoch 16/100, Train Loss: 168.95575962177614, Val Loss: 156.673504140802\n",
            "Epoch 17/100, Train Loss: 159.89366105516726, Val Loss: 154.81250080673357\n",
            "Epoch 18/100, Train Loss: 160.4198386174444, Val Loss: 153.28741178483762\n",
            "Epoch 19/100, Train Loss: 162.15154743256227, Val Loss: 159.06045414673957\n",
            "Epoch 20/100, Train Loss: 159.34393232625456, Val Loss: 164.6130393221299\n",
            "Epoch 21/100, Train Loss: 157.03608108846004, Val Loss: 150.08777445536725\n",
            "Epoch 22/100, Train Loss: 153.432400082648, Val Loss: 151.28369889734734\n",
            "Epoch 23/100, Train Loss: 152.96480226424254, Val Loss: 147.26178105288042\n",
            "Epoch 24/100, Train Loss: 154.00286407076163, Val Loss: 153.28497909131008\n",
            "Epoch 25/100, Train Loss: 157.00831870317614, Val Loss: 159.12010151381938\n",
            "Epoch 26/100, Train Loss: 165.5250290794841, Val Loss: 157.95836236037516\n",
            "Epoch 27/100, Train Loss: 153.04035122161847, Val Loss: 159.27624048423192\n",
            "Epoch 28/100, Train Loss: 149.54333004892914, Val Loss: 146.12363885608684\n",
            "Epoch 29/100, Train Loss: 145.68531076817183, Val Loss: 146.3602193042951\n",
            "Epoch 30/100, Train Loss: 152.02338391176409, Val Loss: 157.78260439040076\n",
            "Epoch 31/100, Train Loss: 147.78861604972894, Val Loss: 148.9040048144015\n",
            "Epoch 32/100, Train Loss: 150.3145555867329, Val Loss: 156.80503061530814\n",
            "Epoch 33/100, Train Loss: 147.39791418370234, Val Loss: 143.80036405350145\n",
            "Epoch 34/100, Train Loss: 149.1227617171324, Val Loss: 140.70947639027392\n",
            "Epoch 35/100, Train Loss: 142.0955091499866, Val Loss: 143.9034163598928\n",
            "Epoch 36/100, Train Loss: 152.51004755258097, Val Loss: 146.0661494782324\n",
            "Epoch 37/100, Train Loss: 143.1600464251863, Val Loss: 187.50154277421197\n",
            "Epoch 38/100, Train Loss: 147.99055869577774, Val Loss: 155.89683260730385\n",
            "Epoch 39/100, Train Loss: 144.87789383378427, Val Loss: 149.50131050409507\n",
            "Epoch 40/100, Train Loss: 150.64597243128395, Val Loss: 154.75252413101427\n",
            "Epoch 41/100, Train Loss: 141.3079961321781, Val Loss: 162.18169534458494\n",
            "Epoch 42/100, Train Loss: 136.78275370089253, Val Loss: 138.97753680364602\n",
            "Epoch 43/100, Train Loss: 140.44220211371808, Val Loss: 137.24949129686615\n",
            "Epoch 44/100, Train Loss: 143.96551614279275, Val Loss: 141.6138308890997\n",
            "Epoch 45/100, Train Loss: 137.94940372952817, Val Loss: 145.06605331559194\n",
            "Epoch 46/100, Train Loss: 141.76959820323862, Val Loss: 139.07190605232722\n",
            "Epoch 47/100, Train Loss: 135.80104340132237, Val Loss: 132.77349293412038\n",
            "Epoch 48/100, Train Loss: 136.8931192645891, Val Loss: 140.97451793751327\n",
            "Epoch 49/100, Train Loss: 146.16137068982115, Val Loss: 148.5473248807325\n",
            "Epoch 50/100, Train Loss: 140.84559491286373, Val Loss: 133.25611651556008\n",
            "Epoch 51/100, Train Loss: 134.1903788117185, Val Loss: 133.46919774865097\n",
            "Epoch 52/100, Train Loss: 145.4581088489614, Val Loss: 144.83814151913737\n",
            "Epoch 53/100, Train Loss: 140.23015646265642, Val Loss: 135.1434783244061\n",
            "Epoch 54/100, Train Loss: 137.53741161639874, Val Loss: 142.55563686405424\n",
            "Epoch 55/100, Train Loss: 138.18471920158913, Val Loss: 131.2584132975322\n",
            "Epoch 56/100, Train Loss: 132.1556947951018, Val Loss: 137.2694751243937\n",
            "Epoch 57/100, Train Loss: 132.91911906739858, Val Loss: 127.01699569794347\n",
            "Epoch 58/100, Train Loss: 129.24325734627348, Val Loss: 128.9986159218042\n",
            "Epoch 59/100, Train Loss: 134.69711583833504, Val Loss: 133.150083374761\n",
            "Epoch 60/100, Train Loss: 130.44968118402522, Val Loss: 129.72201526561173\n",
            "Epoch 61/100, Train Loss: 136.21217477375566, Val Loss: 133.61983759669738\n",
            "Epoch 62/100, Train Loss: 129.2046403693783, Val Loss: 136.20861521372262\n",
            "Epoch 63/100, Train Loss: 136.55073687424564, Val Loss: 152.70940970798273\n",
            "Epoch 64/100, Train Loss: 133.84766070335698, Val Loss: 128.88113610766086\n",
            "Epoch 65/100, Train Loss: 127.84796789128625, Val Loss: 126.7550909036596\n",
            "Epoch 66/100, Train Loss: 129.2393710451428, Val Loss: 135.25456940803642\n",
            "Epoch 67/100, Train Loss: 131.2514883484005, Val Loss: 128.2922540532138\n",
            "Epoch 68/100, Train Loss: 134.54941544042686, Val Loss: 148.84970302524164\n",
            "Epoch 69/100, Train Loss: 141.6236101087633, Val Loss: 136.9073842443368\n",
            "Epoch 70/100, Train Loss: 130.7302874791368, Val Loss: 142.2019467310603\n",
            "Epoch 71/100, Train Loss: 131.72064711528205, Val Loss: 127.11976457578538\n",
            "Epoch 72/100, Train Loss: 126.04253812073583, Val Loss: 155.67011966301956\n",
            "Epoch 73/100, Train Loss: 129.76678029845127, Val Loss: 130.0592304932747\n",
            "Epoch 74/100, Train Loss: 138.74886421642537, Val Loss: 142.6707472325812\n",
            "Epoch 75/100, Train Loss: 130.6306038815203, Val Loss: 157.9995578869592\n",
            "Epoch 76/100, Train Loss: 131.24765074815608, Val Loss: 130.95106513262516\n",
            "Epoch 77/100, Train Loss: 128.94011849500166, Val Loss: 124.12843004670388\n",
            "Epoch 78/100, Train Loss: 131.97694457139826, Val Loss: 133.50463203361028\n",
            "Epoch 79/100, Train Loss: 125.08320904702776, Val Loss: 138.8616819352902\n",
            "Epoch 80/100, Train Loss: 131.2894284347603, Val Loss: 132.738649742841\n",
            "Epoch 81/100, Train Loss: 140.73320435892018, Val Loss: 151.6336260792712\n",
            "Epoch 82/100, Train Loss: 127.49085019092523, Val Loss: 146.50033686888543\n",
            "Epoch 83/100, Train Loss: 128.98079780524364, Val Loss: 159.31078587557974\n",
            "Epoch 84/100, Train Loss: 130.7571879450398, Val Loss: 120.528902716507\n",
            "Epoch 85/100, Train Loss: 120.06781808252711, Val Loss: 127.40804175523833\n",
            "Epoch 86/100, Train Loss: 121.67542908464468, Val Loss: 124.71613005208825\n",
            "Epoch 87/100, Train Loss: 126.72824290003712, Val Loss: 132.19030999128913\n",
            "Epoch 88/100, Train Loss: 124.07552292767693, Val Loss: 125.12705636384624\n",
            "Epoch 89/100, Train Loss: 122.76219259606073, Val Loss: 142.12817583343414\n",
            "Epoch 90/100, Train Loss: 124.64114469640396, Val Loss: 135.33541174021371\n",
            "Epoch 91/100, Train Loss: 129.266110430707, Val Loss: 145.26665033530614\n",
            "Epoch 92/100, Train Loss: 124.2484653721953, Val Loss: 121.75962404326009\n",
            "Epoch 93/100, Train Loss: 121.56358495217874, Val Loss: 141.6143132696699\n",
            "Epoch 94/100, Train Loss: 119.35704731710048, Val Loss: 137.89464082746707\n",
            "Epoch 95/100, Train Loss: 119.12711497962128, Val Loss: 134.50845572019273\n",
            "Epoch 96/100, Train Loss: 133.14269254619103, Val Loss: 126.12399757592699\n",
            "Epoch 97/100, Train Loss: 116.7769517164964, Val Loss: 121.68149525161236\n",
            "Epoch 98/100, Train Loss: 122.27444943290567, Val Loss: 119.36236092835395\n",
            "Epoch 99/100, Train Loss: 118.27376979539375, Val Loss: 120.25100334605422\n",
            "Epoch 100/100, Train Loss: 118.49259924071792, Val Loss: 126.54311827230309\n"
          ]
        }
      ],
      "source": [
        "for epoch in range(num_epochs):\n",
        "    model.train()\n",
        "    train_loss = 0.0\n",
        "    for inputs, targets in train_loader:\n",
        "        inputs, targets = inputs.to(device), targets.to(device)\n",
        "        optimizer.zero_grad()\n",
        "        outputs = model(inputs)\n",
        "        loss = criterion(outputs, targets)\n",
        "        loss.backward()\n",
        "        optimizer.step()\n",
        "        train_loss += loss.item() * inputs.size(0)\n",
        "\n",
        "    # Validation\n",
        "    model.eval()\n",
        "    val_loss = 0.0\n",
        "    with torch.no_grad():\n",
        "        for inputs, targets in val_loader:\n",
        "            inputs, targets = inputs.to(device), targets.to(device)\n",
        "            outputs = model(inputs)\n",
        "            loss = criterion(outputs, targets)\n",
        "            val_loss += loss.item() * inputs.size(0)\n",
        "\n",
        "    # Print training and validation loss\n",
        "    print(f'Epoch {epoch+1}/{num_epochs}, Train Loss: {train_loss/len(train_loader.dataset)}, Val Loss: {val_loss/len(val_loader.dataset)}')"
      ]
    },
    {
      "cell_type": "markdown",
      "metadata": {
        "id": "Y2hJrfwXzJSp"
      },
      "source": [
        "Evaluate the model"
      ]
    },
    {
      "cell_type": "code",
      "execution_count": 26,
      "metadata": {
        "colab": {
          "base_uri": "https://localhost:8080/"
        },
        "id": "dOz0zSpSzKnL",
        "outputId": "deafe282-7cea-4143-f1f9-12d49dc97538"
      },
      "outputs": [
        {
          "name": "stdout",
          "output_type": "stream",
          "text": [
            "Test Loss: 126.1297\n"
          ]
        }
      ],
      "source": [
        "test_loss = 0.0\n",
        "with torch.no_grad():\n",
        "    for X_batch, y_batch in test_loader:\n",
        "        X_batch, y_batch = X_batch.to(device), y_batch.to(device)\n",
        "        outputs = model(X_batch)\n",
        "        loss = criterion(outputs, y_batch)\n",
        "        test_loss += loss.item() * X_batch.size(0)\n",
        "\n",
        "test_loss /= len(test_loader.dataset)\n",
        "print(f'Test Loss: {test_loss:.4f}')"
      ]
    }
  ],
  "metadata": {
    "accelerator": "GPU",
    "colab": {
      "gpuType": "T4",
      "provenance": []
    },
    "kernelspec": {
      "display_name": "Python 3",
      "name": "python3"
    },
    "language_info": {
      "codemirror_mode": {
        "name": "ipython",
        "version": 3
      },
      "file_extension": ".py",
      "mimetype": "text/x-python",
      "name": "python",
      "nbconvert_exporter": "python",
      "pygments_lexer": "ipython3",
      "version": "3.12.3"
    }
  },
  "nbformat": 4,
  "nbformat_minor": 0
}
