{
  "cells": [
    {
      "cell_type": "markdown",
      "metadata": {
        "id": "IkcXXMw8ww2t"
      },
      "source": [
        "#Deep Learning Architectures Assignment 2\n",
        "The goal is to design and train a neural network for a regression task.\n",
        "Detailed requirements were presented during the last lecture.\n",
        "\n",
        "#Summary\n",
        "#Dataset\n",
        "* The dataset contains 2210 examples.\n",
        "* Each example consists of 2500 time steps.\n",
        "* In each time step, 8 values are recorded.\n",
        "* The result consists of two real numbers representing the coordinates.\n",
        "\n",
        "##TODO:\n",
        "* Split the dataset into three sets: test, validation, and training.\n",
        "* Choose an architecture and design the model.\n",
        "* Design the training procedure.\n",
        "* Present the results. \\\\\n",
        "// A correctly trained model should make predictions with an average error of < 2.\n",
        "\n",
        "##What will be evaluated:\n",
        "* Understanding of the topic, exploration of the dataset, justification of architecture choice [5 points]\n",
        "* Correctness of the training implementation [5 points]\n",
        "* Error obtained on test and validation data [5 points]\n",
        "* Presentation of the achieved results [5 points]\n",
        "\n",
        "\n",
        "##Extended task for extra points:\n",
        "* Design a model for noisy data.\n",
        "* To add noise, use the addNoise function.\n",
        "* Start tests with low noise: 0.01 or 0.001."
      ]
    },
    {
      "cell_type": "code",
      "execution_count": 97,
      "metadata": {
        "id": "iAUUBld7wTiS"
      },
      "outputs": [],
      "source": [
        "from urllib.request import urlopen\n",
        "import pickle\n",
        "import os\n",
        "\n",
        "def download_part(filename):\n",
        "  base_url = f\"https://github.com/pa-k/AGU/blob/main/assignment2/{filename}?raw=true\"\n",
        "  url = urlopen(base_url)\n",
        "  binary_data = url.read()\n",
        "  with open(filename,\"wb\") as f:\n",
        "    f.write(binary_data)\n",
        "\n",
        "def loadDataset():\n",
        "    parts = [\"DLAA2.0.pkl\", \"DLAA2.1.pkl\", \"DLAA2.2.pkl\", \"DLAA2.3.pkl\"]\n",
        "    cData = b''\n",
        "    for part in parts:\n",
        "        if not os.path.exists(part):\n",
        "          download_part(part)\n",
        "        with open(part, \"rb\") as f:\n",
        "            cData += pickle.load(f)\n",
        "    return pickle.loads(cData)\n",
        "\n",
        "def addNoise(input, noiseLevel=0.1):\n",
        "  shape = input.shape\n",
        "  noise = np.random.randn(*shape)*noiseLevel*np.max(input)\n",
        "  return input+noise\n"
      ]
    },
    {
      "cell_type": "markdown",
      "metadata": {
        "id": "obxK-NnJwfOi"
      },
      "source": [
        "##Load dataset"
      ]
    },
    {
      "cell_type": "code",
      "execution_count": 98,
      "metadata": {
        "colab": {
          "base_uri": "https://localhost:8080/"
        },
        "id": "4mTJ6PHhwee_",
        "outputId": "aa2ff93d-22e1-4c14-b681-4da4bf3d8f0d"
      },
      "outputs": [
        {
          "name": "stdout",
          "output_type": "stream",
          "text": [
            "(2210, 2500, 8)\n",
            "(2210, 2)\n",
            "[23 14]\n"
          ]
        }
      ],
      "source": [
        "x, y = loadDataset()\n",
        "print(x.shape)\n",
        "print(y.shape)\n",
        "print(y[1000])"
      ]
    },
    {
      "cell_type": "markdown",
      "metadata": {
        "id": "ETL1vvFzwiuo"
      },
      "source": [
        "# Your solution"
      ]
    },
    {
      "cell_type": "markdown",
      "metadata": {
        "id": "DACJmoKcvZvP"
      },
      "source": [
        "Imports"
      ]
    },
    {
      "cell_type": "code",
      "execution_count": 99,
      "metadata": {
        "id": "BPus7vdSwoSf"
      },
      "outputs": [],
      "source": [
        "from sklearn.preprocessing import StandardScaler\n",
        "import torch\n",
        "from torch.utils.data import DataLoader, TensorDataset\n",
        "import torch.nn as nn\n",
        "import torch.optim as optim\n",
        "import matplotlib.pyplot as plt\n",
        "import numpy as np"
      ]
    },
    {
      "cell_type": "markdown",
      "metadata": {
        "id": "JOMT3-N0yCu1"
      },
      "source": [
        "Data preprocessing"
      ]
    },
    {
      "cell_type": "code",
      "execution_count": 100,
      "metadata": {
        "id": "-0uLCry8yEfj"
      },
      "outputs": [],
      "source": [
        "total_samples = len(x)\n",
        "train_ratio=0.7\n",
        "val_ratio=0.15\n",
        "test_ratio=0.15\n",
        "\n",
        "train_size = int(total_samples * train_ratio)\n",
        "val_size = int(total_samples * val_ratio)\n",
        "test_size = total_samples - train_size - val_size\n",
        "\n",
        "# Create random indices for splitting\n",
        "indices = np.random.permutation(total_samples)\n",
        "\n",
        "train_indices = indices[:train_size]\n",
        "val_indices = indices[train_size:train_size + val_size]\n",
        "test_indices = indices[train_size + val_size:]\n",
        "\n",
        "x_train, y_train = x[train_indices], y[train_indices]\n",
        "x_val, y_val = x[val_indices], y[val_indices]\n",
        "x_test, y_test = x[test_indices], y[test_indices]\n",
        "\n",
        "scaler = StandardScaler()\n",
        "x_train_normalized = scaler.fit_transform(x_train.reshape(-1, x_train.shape[-1])).reshape(x_train.shape)\n",
        "x_val_normalized = scaler.transform(x_val.reshape(-1, x_val.shape[-1])).reshape(x_val.shape)\n",
        "x_test_normalized = scaler.transform(x_test.reshape(-1, x_test.shape[-1])).reshape(x_test.shape)\n",
        "\n",
        "# Convert to PyTorch tensors\n",
        "x_train_tensor = torch.tensor(x_train_normalized, dtype=torch.float32)\n",
        "y_train_tensor = torch.tensor(y_train, dtype=torch.float32)\n",
        "x_val_tensor = torch.tensor(x_val_normalized, dtype=torch.float32)\n",
        "y_val_tensor = torch.tensor(y_val, dtype=torch.float32)\n",
        "x_test_tensor = torch.tensor(x_test_normalized, dtype=torch.float32)\n",
        "y_test_tensor = torch.tensor(y_test, dtype=torch.float32)\n",
        "\n",
        "# Create DataLoader\n",
        "train_dataset = TensorDataset(x_train_tensor, y_train_tensor)\n",
        "val_dataset = TensorDataset(x_val_tensor, y_val_tensor)\n",
        "test_dataset = TensorDataset(x_test_tensor, y_test_tensor)\n",
        "\n",
        "batch_size = 32\n",
        "train_loader = DataLoader(train_dataset, batch_size=batch_size, shuffle=True)\n",
        "val_loader = DataLoader(val_dataset, batch_size=batch_size)\n",
        "test_loader = DataLoader(test_dataset, batch_size=batch_size)\n"
      ]
    },
    {
      "cell_type": "markdown",
      "metadata": {
        "id": "aszAmfB5yf7y"
      },
      "source": [
        "Neural network architecture"
      ]
    },
    {
      "cell_type": "code",
      "execution_count": 101,
      "metadata": {
        "id": "26cUxJoXyh6E"
      },
      "outputs": [],
      "source": [
        "import torch.nn.functional as F\n",
        "\n",
        "class RegressionModel(nn.Module):\n",
        "    def __init__(self):\n",
        "        super(RegressionModel, self).__init__()\n",
        "        self.fc1 = nn.Linear(2500 * 8, 2048)\n",
        "        self.fc2 = nn.Linear(2048, 1024)\n",
        "        self.fc3 = nn.Linear(1024, 512)\n",
        "        self.fc4 = nn.Linear(512, 256)\n",
        "        self.fc5 = nn.Linear(256, 128)\n",
        "        self.fc6 = nn.Linear(128, 64)\n",
        "        self.fc7 = nn.Linear(64, 2)\n",
        "        self.dropout = nn.Dropout(0.5)\n",
        "        self.batch_norm1 = nn.BatchNorm1d(2048)\n",
        "        self.batch_norm2 = nn.BatchNorm1d(1024)\n",
        "\n",
        "    def forward(self, x):\n",
        "        x = x.view(x.size(0), -1)\n",
        "        x = F.relu(self.fc1(x))\n",
        "        x = self.batch_norm1(x)\n",
        "        x = self.dropout(x)\n",
        "        x = F.relu(self.fc2(x))\n",
        "        x = self.batch_norm2(x)\n",
        "        x = self.dropout(x)\n",
        "        x = F.relu(self.fc3(x))\n",
        "        x = self.dropout(x)\n",
        "        x = F.relu(self.fc4(x))\n",
        "        x = F.relu(self.fc5(x))\n",
        "        x = F.relu(self.fc6(x))\n",
        "        x = self.fc7(x)\n",
        "        return x\n",
        "\n",
        "device = torch.device(\"cuda\" if torch.cuda.is_available() else \"cpu\")\n",
        "\n",
        "model = RegressionModel()\n",
        "model.to(device)\n",
        "criterion = nn.CrossEntropyLoss()\n",
        "optimizer = optim.Adam(model.parameters())\n",
        "num_epochs = 100"
      ]
    },
    {
      "cell_type": "markdown",
      "metadata": {
        "id": "d2n2lRYEyy6J"
      },
      "source": [
        "Training the model"
      ]
    },
    {
      "cell_type": "code",
      "execution_count": 102,
      "metadata": {
        "colab": {
          "base_uri": "https://localhost:8080/"
        },
        "id": "yAQS--MWy0KB",
        "outputId": "ead6366d-0305-4328-bb65-44023c74e60f"
      },
      "outputs": [
        {
          "name": "stdout",
          "output_type": "stream",
          "text": [
            "Epoch 1/100, Train Loss: 34.66575196579956, Val Loss: 46.37126061707465\n",
            "Epoch 2/100, Train Loss: 33.52709227835046, Val Loss: 32.45719500538806\n",
            "Epoch 3/100, Train Loss: 33.06848721051108, Val Loss: 41.640244060412634\n",
            "Epoch 4/100, Train Loss: 32.9434565597761, Val Loss: 34.41698128507217\n",
            "Epoch 5/100, Train Loss: 32.527650076108515, Val Loss: 31.446954853945268\n",
            "Epoch 6/100, Train Loss: 32.415156156691566, Val Loss: 34.236824508159906\n",
            "Epoch 7/100, Train Loss: 32.30005969027203, Val Loss: 32.70230152095553\n",
            "Epoch 8/100, Train Loss: 32.332915452193966, Val Loss: 34.079359440645064\n",
            "Epoch 9/100, Train Loss: 32.138020951284005, Val Loss: 31.972839539864992\n",
            "Epoch 10/100, Train Loss: 32.11423394536695, Val Loss: 30.667920847313642\n",
            "Epoch 11/100, Train Loss: 31.990864711186926, Val Loss: 41.312859906890964\n",
            "Epoch 12/100, Train Loss: 31.952426811765683, Val Loss: 33.351150748952996\n",
            "Epoch 13/100, Train Loss: 31.979138840994068, Val Loss: 31.60156842372929\n",
            "Epoch 14/100, Train Loss: 31.889651761489603, Val Loss: 30.629993283136372\n",
            "Epoch 15/100, Train Loss: 31.825869549761762, Val Loss: 34.10152543635527\n",
            "Epoch 16/100, Train Loss: 31.84182672432799, Val Loss: 30.968456642865416\n",
            "Epoch 17/100, Train Loss: 31.79152279356332, Val Loss: 30.603259158638668\n",
            "Epoch 18/100, Train Loss: 31.785630456077413, Val Loss: 30.732870355473544\n",
            "Epoch 19/100, Train Loss: 31.758996212644274, Val Loss: 36.81216957922068\n",
            "Epoch 20/100, Train Loss: 31.68563988259629, Val Loss: 31.10545613614454\n",
            "Epoch 21/100, Train Loss: 31.726610246595445, Val Loss: 31.73344495721454\n",
            "Epoch 22/100, Train Loss: 31.69621548717378, Val Loss: 30.981077926036455\n",
            "Epoch 23/100, Train Loss: 31.791659634423088, Val Loss: 32.22491975421271\n",
            "Epoch 24/100, Train Loss: 31.710360331618563, Val Loss: 30.805716096814667\n",
            "Epoch 25/100, Train Loss: 31.68914497045062, Val Loss: 33.50215000832549\n",
            "Epoch 26/100, Train Loss: 31.656081660146782, Val Loss: 31.226572146228435\n",
            "Epoch 27/100, Train Loss: 31.597469810678177, Val Loss: 29.687818746192217\n",
            "Epoch 28/100, Train Loss: 31.645584552767357, Val Loss: 31.2391118974484\n",
            "Epoch 29/100, Train Loss: 31.59627623702914, Val Loss: 29.800464595552658\n",
            "Epoch 30/100, Train Loss: 31.559827493866106, Val Loss: 30.144842528144398\n",
            "Epoch 31/100, Train Loss: 31.600081492487508, Val Loss: 32.008405714236716\n",
            "Epoch 32/100, Train Loss: 31.55859632929757, Val Loss: 30.34897778329532\n",
            "Epoch 33/100, Train Loss: 31.587440295919112, Val Loss: 31.72955013401919\n",
            "Epoch 34/100, Train Loss: 31.614319187945988, Val Loss: 30.1247300957625\n",
            "Epoch 35/100, Train Loss: 31.525072599582387, Val Loss: 29.81113383128924\n",
            "Epoch 36/100, Train Loss: 31.541432975566842, Val Loss: 31.758578770110255\n",
            "Epoch 37/100, Train Loss: 31.51839470447227, Val Loss: 30.26127030410075\n",
            "Epoch 38/100, Train Loss: 31.551555023242678, Val Loss: 31.00062529342052\n",
            "Epoch 39/100, Train Loss: 31.54244891550746, Val Loss: 30.559501210008143\n",
            "Epoch 40/100, Train Loss: 31.538993326247546, Val Loss: 31.108945639111845\n",
            "Epoch 41/100, Train Loss: 31.455476490851748, Val Loss: 31.445230282325397\n",
            "Epoch 42/100, Train Loss: 31.44653135495719, Val Loss: 30.146788288819465\n",
            "Epoch 43/100, Train Loss: 31.46787584744967, Val Loss: 29.589509641295834\n",
            "Epoch 44/100, Train Loss: 31.484620835909013, Val Loss: 29.86454639261943\n",
            "Epoch 45/100, Train Loss: 31.485196101873555, Val Loss: 29.417584306884027\n",
            "Epoch 46/100, Train Loss: 31.456260065918364, Val Loss: 32.79794406026512\n",
            "Epoch 47/100, Train Loss: 31.456561523171185, Val Loss: 34.049782398604194\n",
            "Epoch 48/100, Train Loss: 31.523816903329465, Val Loss: 30.040487721607406\n",
            "Epoch 49/100, Train Loss: 31.52378591230475, Val Loss: 30.66507594174849\n",
            "Epoch 50/100, Train Loss: 31.56526985242433, Val Loss: 29.848743271611607\n",
            "Epoch 51/100, Train Loss: 31.46585866907141, Val Loss: 30.15720623281427\n",
            "Epoch 52/100, Train Loss: 31.54055755309467, Val Loss: 30.5483365361424\n",
            "Epoch 53/100, Train Loss: 31.480857119224268, Val Loss: 29.5354706686429\n",
            "Epoch 54/100, Train Loss: 31.42407341595226, Val Loss: 29.88828947752984\n",
            "Epoch 55/100, Train Loss: 31.48076454068895, Val Loss: 37.05352639719799\n",
            "Epoch 56/100, Train Loss: 31.424100799412596, Val Loss: 29.57063574661301\n",
            "Epoch 57/100, Train Loss: 31.486124942436785, Val Loss: 31.648617234474944\n",
            "Epoch 58/100, Train Loss: 31.442327096220286, Val Loss: 29.52478217502375\n",
            "Epoch 59/100, Train Loss: 31.41284730069161, Val Loss: 29.39756375569231\n",
            "Epoch 60/100, Train Loss: 31.41754574519862, Val Loss: 29.980050130192968\n",
            "Epoch 61/100, Train Loss: 31.376764979297757, Val Loss: 29.308719185543925\n",
            "Epoch 62/100, Train Loss: 31.372774113049104, Val Loss: 30.907286618051213\n",
            "Epoch 63/100, Train Loss: 31.37080598077854, Val Loss: 29.869813896017853\n",
            "Epoch 64/100, Train Loss: 31.448834873586605, Val Loss: 30.138652248324945\n",
            "Epoch 65/100, Train Loss: 31.403048104136392, Val Loss: 30.172236076654624\n",
            "Epoch 66/100, Train Loss: 31.41170948277617, Val Loss: 29.636456388721292\n",
            "Epoch 67/100, Train Loss: 31.38273922674257, Val Loss: 30.338271921855085\n",
            "Epoch 68/100, Train Loss: 31.374262096501198, Val Loss: 29.88030753467018\n",
            "Epoch 69/100, Train Loss: 31.456442711502795, Val Loss: 30.17978879116093\n",
            "Epoch 70/100, Train Loss: 31.377062570070095, Val Loss: 29.80729892534792\n",
            "Epoch 71/100, Train Loss: 31.423542051062554, Val Loss: 30.296336516872994\n",
            "Epoch 72/100, Train Loss: 31.40680446637085, Val Loss: 29.313403218894567\n",
            "Epoch 73/100, Train Loss: 31.36118089050806, Val Loss: 29.627512404565724\n",
            "Epoch 74/100, Train Loss: 31.351114264440753, Val Loss: 29.92681352897713\n",
            "Epoch 75/100, Train Loss: 31.43222351666027, Val Loss: 31.321638216785075\n",
            "Epoch 76/100, Train Loss: 31.431148326851588, Val Loss: 29.524358432458605\n",
            "Epoch 77/100, Train Loss: 31.35281636657912, Val Loss: 29.557955577654422\n",
            "Epoch 78/100, Train Loss: 31.347946559065146, Val Loss: 29.62175265539809\n",
            "Epoch 79/100, Train Loss: 31.30508646505759, Val Loss: 29.402084166189695\n",
            "Epoch 80/100, Train Loss: 31.304607842611205, Val Loss: 30.47533222555754\n",
            "Epoch 81/100, Train Loss: 31.364806898347624, Val Loss: 29.42537578571239\n",
            "Epoch 82/100, Train Loss: 31.359068294147868, Val Loss: 30.270455265333286\n",
            "Epoch 83/100, Train Loss: 31.353540113531704, Val Loss: 29.284085829812593\n",
            "Epoch 84/100, Train Loss: 31.360395119586297, Val Loss: 29.484267548852095\n",
            "Epoch 85/100, Train Loss: 31.338843586680653, Val Loss: 29.725157089463895\n",
            "Epoch 86/100, Train Loss: 31.361631537685874, Val Loss: 29.81846527606699\n",
            "Epoch 87/100, Train Loss: 31.321927956480632, Val Loss: 30.516009062798723\n",
            "Epoch 88/100, Train Loss: 31.338747594151563, Val Loss: 30.296954221235662\n",
            "Epoch 89/100, Train Loss: 31.317736046808953, Val Loss: 29.372359820363023\n",
            "Epoch 90/100, Train Loss: 31.304666787944615, Val Loss: 31.955965831560672\n",
            "Epoch 91/100, Train Loss: 31.32557509310722, Val Loss: 30.69544740890088\n",
            "Epoch 92/100, Train Loss: 31.376597133851003, Val Loss: 31.9358713490005\n",
            "Epoch 93/100, Train Loss: 31.370012068794708, Val Loss: 29.990940255340853\n",
            "Epoch 94/100, Train Loss: 31.371884100038002, Val Loss: 29.578628274969464\n",
            "Epoch 95/100, Train Loss: 31.419600863416655, Val Loss: 33.09124037866506\n",
            "Epoch 96/100, Train Loss: 31.34983205517878, Val Loss: 29.91582247569842\n",
            "Epoch 97/100, Train Loss: 31.371910376323758, Val Loss: 29.933060522165903\n",
            "Epoch 98/100, Train Loss: 31.332475500717113, Val Loss: 29.461640015109428\n",
            "Epoch 99/100, Train Loss: 31.289058165004658, Val Loss: 29.40747909315403\n",
            "Epoch 100/100, Train Loss: 31.348570194256713, Val Loss: 29.654249029937468\n"
          ]
        }
      ],
      "source": [
        "for epoch in range(num_epochs):\n",
        "    model.train()\n",
        "    train_loss = 0.0\n",
        "    for inputs, targets in train_loader:\n",
        "        inputs, targets = inputs.to(device), targets.to(device)\n",
        "        optimizer.zero_grad()\n",
        "        outputs = model(inputs)\n",
        "        loss = criterion(outputs, targets)\n",
        "        loss.backward()\n",
        "        optimizer.step()\n",
        "        train_loss += loss.item() * inputs.size(0)\n",
        "\n",
        "    # Validation\n",
        "    model.eval()\n",
        "    val_loss = 0.0\n",
        "    with torch.no_grad():\n",
        "        for inputs, targets in val_loader:\n",
        "            inputs, targets = inputs.to(device), targets.to(device)\n",
        "            outputs = model(inputs)\n",
        "            loss = criterion(outputs, targets)\n",
        "            val_loss += loss.item() * inputs.size(0)\n",
        "\n",
        "    # Print training and validation loss\n",
        "    print(f'Epoch {epoch+1}/{num_epochs}, Train Loss: {train_loss/len(train_loader.dataset)}, Val Loss: {val_loss/len(val_loader.dataset)}')"
      ]
    },
    {
      "cell_type": "markdown",
      "metadata": {
        "id": "Y2hJrfwXzJSp"
      },
      "source": [
        "Evaluate the model"
      ]
    },
    {
      "cell_type": "code",
      "execution_count": 103,
      "metadata": {
        "colab": {
          "base_uri": "https://localhost:8080/"
        },
        "id": "dOz0zSpSzKnL",
        "outputId": "deafe282-7cea-4143-f1f9-12d49dc97538"
      },
      "outputs": [
        {
          "name": "stdout",
          "output_type": "stream",
          "text": [
            "Test Loss: 30.1496\n"
          ]
        }
      ],
      "source": [
        "test_loss = 0.0\n",
        "with torch.no_grad():\n",
        "    for X_batch, y_batch in test_loader:\n",
        "        X_batch, y_batch = X_batch.to(device), y_batch.to(device)\n",
        "        outputs = model(X_batch)\n",
        "        loss = criterion(outputs, y_batch)\n",
        "        test_loss += loss.item() * X_batch.size(0)\n",
        "\n",
        "test_loss /= len(test_loader.dataset)\n",
        "print(f'Test Loss: {test_loss:.4f}')"
      ]
    }
  ],
  "metadata": {
    "accelerator": "GPU",
    "colab": {
      "gpuType": "T4",
      "provenance": []
    },
    "kernelspec": {
      "display_name": "Python 3",
      "name": "python3"
    },
    "language_info": {
      "codemirror_mode": {
        "name": "ipython",
        "version": 3
      },
      "file_extension": ".py",
      "mimetype": "text/x-python",
      "name": "python",
      "nbconvert_exporter": "python",
      "pygments_lexer": "ipython3",
      "version": "3.12.3"
    }
  },
  "nbformat": 4,
  "nbformat_minor": 0
}
