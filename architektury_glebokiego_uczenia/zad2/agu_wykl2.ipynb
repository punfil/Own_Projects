{
  "cells": [
    {
      "cell_type": "markdown",
      "metadata": {
        "id": "IkcXXMw8ww2t"
      },
      "source": [
        "#Deep Learning Architectures Assignment 2\n",
        "The goal is to design and train a neural network for a regression task.\n",
        "Detailed requirements were presented during the last lecture.\n",
        "\n",
        "#Summary\n",
        "#Dataset\n",
        "* The dataset contains 2210 examples.\n",
        "* Each example consists of 2500 time steps.\n",
        "* In each time step, 8 values are recorded.\n",
        "* The result consists of two real numbers representing the coordinates.\n",
        "\n",
        "##TODO:\n",
        "* Split the dataset into three sets: test, validation, and training.\n",
        "* Choose an architecture and design the model.\n",
        "* Design the training procedure.\n",
        "* Present the results. \\\\\n",
        "// A correctly trained model should make predictions with an average error of < 2.\n",
        "\n",
        "##What will be evaluated:\n",
        "* Understanding of the topic, exploration of the dataset, justification of architecture choice [5 points]\n",
        "* Correctness of the training implementation [5 points]\n",
        "* Error obtained on test and validation data [5 points]\n",
        "* Presentation of the achieved results [5 points]\n",
        "\n",
        "\n",
        "##Extended task for extra points:\n",
        "* Design a model for noisy data.\n",
        "* To add noise, use the addNoise function.\n",
        "* Start tests with low noise: 0.01 or 0.001."
      ]
    },
    {
      "cell_type": "code",
      "execution_count": null,
      "metadata": {
        "id": "iAUUBld7wTiS"
      },
      "outputs": [],
      "source": [
        "from urllib.request import urlopen\n",
        "import pickle\n",
        "import os\n",
        "\n",
        "def download_part(filename):\n",
        "  base_url = f\"https://github.com/pa-k/AGU/blob/main/assignment2/{filename}?raw=true\"\n",
        "  url = urlopen(base_url)\n",
        "  binary_data = url.read()\n",
        "  with open(filename,\"wb\") as f:\n",
        "    f.write(binary_data)\n",
        "\n",
        "def loadDataset():\n",
        "    parts = [\"DLAA2.0.pkl\", \"DLAA2.1.pkl\", \"DLAA2.2.pkl\", \"DLAA2.3.pkl\"]\n",
        "    cData = b''\n",
        "    for part in parts:\n",
        "        if not os.path.exists(part):\n",
        "          download_part(part)\n",
        "        with open(part, \"rb\") as f:\n",
        "            cData += pickle.load(f)\n",
        "    return pickle.loads(cData)\n",
        "\n",
        "def addNoise(input, noiseLevel=0.1):\n",
        "  shape = input.shape\n",
        "  noise = np.random.randn(*shape)*noiseLevel*np.max(input)\n",
        "  return input+noise\n"
      ]
    },
    {
      "cell_type": "markdown",
      "metadata": {
        "id": "obxK-NnJwfOi"
      },
      "source": [
        "##Load dataset"
      ]
    },
    {
      "cell_type": "code",
      "execution_count": null,
      "metadata": {
        "colab": {
          "base_uri": "https://localhost:8080/"
        },
        "id": "4mTJ6PHhwee_",
        "outputId": "aa2ff93d-22e1-4c14-b681-4da4bf3d8f0d"
      },
      "outputs": [],
      "source": [
        "x, y = loadDataset()\n",
        "print(x.shape)\n",
        "print(y.shape)\n",
        "print(y[1000])"
      ]
    },
    {
      "cell_type": "markdown",
      "metadata": {
        "id": "ETL1vvFzwiuo"
      },
      "source": [
        "# Your solution"
      ]
    },
    {
      "cell_type": "markdown",
      "metadata": {
        "id": "DACJmoKcvZvP"
      },
      "source": [
        "Imports"
      ]
    },
    {
      "cell_type": "code",
      "execution_count": null,
      "metadata": {
        "id": "BPus7vdSwoSf"
      },
      "outputs": [],
      "source": [
        "from sklearn.preprocessing import StandardScaler\n",
        "import torch\n",
        "from torch.utils.data import DataLoader, TensorDataset\n",
        "import torch.nn as nn\n",
        "import torch.optim as optim\n",
        "import numpy as np"
      ]
    },
    {
      "cell_type": "markdown",
      "metadata": {
        "id": "JOMT3-N0yCu1"
      },
      "source": [
        "Data preprocessing"
      ]
    },
    {
      "cell_type": "code",
      "execution_count": null,
      "metadata": {
        "id": "-0uLCry8yEfj"
      },
      "outputs": [],
      "source": [
        "total_samples = len(x)\n",
        "train_ratio=0.7\n",
        "val_ratio=0.15\n",
        "test_ratio=0.15\n",
        "\n",
        "train_size = int(total_samples * train_ratio)\n",
        "val_size = int(total_samples * val_ratio)\n",
        "test_size = total_samples - train_size - val_size\n",
        "\n",
        "# Create random indices for splitting\n",
        "indices = np.random.permutation(total_samples)\n",
        "\n",
        "train_indices = indices[:train_size]\n",
        "val_indices = indices[train_size:train_size + val_size]\n",
        "test_indices = indices[train_size + val_size:]\n",
        "\n",
        "x_train, y_train = x[train_indices], y[train_indices]\n",
        "x_val, y_val = x[val_indices], y[val_indices]\n",
        "x_test, y_test = x[test_indices], y[test_indices]\n",
        "\n",
        "scaler = StandardScaler()\n",
        "x_train_normalized = scaler.fit_transform(x_train.reshape(-1, x_train.shape[-1])).reshape(x_train.shape)\n",
        "x_val_normalized = scaler.transform(x_val.reshape(-1, x_val.shape[-1])).reshape(x_val.shape)\n",
        "x_test_normalized = scaler.transform(x_test.reshape(-1, x_test.shape[-1])).reshape(x_test.shape)\n",
        "\n",
        "# Convert to PyTorch tensors\n",
        "x_train_tensor = torch.tensor(x_train_normalized, dtype=torch.float32)\n",
        "y_train_tensor = torch.tensor(y_train, dtype=torch.float32)\n",
        "x_val_tensor = torch.tensor(x_val_normalized, dtype=torch.float32)\n",
        "y_val_tensor = torch.tensor(y_val, dtype=torch.float32)\n",
        "x_test_tensor = torch.tensor(x_test_normalized, dtype=torch.float32)\n",
        "y_test_tensor = torch.tensor(y_test, dtype=torch.float32)\n",
        "\n",
        "# Create DataLoader\n",
        "train_dataset = TensorDataset(x_train_tensor, y_train_tensor)\n",
        "val_dataset = TensorDataset(x_val_tensor, y_val_tensor)\n",
        "test_dataset = TensorDataset(x_test_tensor, y_test_tensor)\n",
        "\n",
        "batch_size = 32\n",
        "train_loader = DataLoader(train_dataset, batch_size=batch_size, shuffle=True)\n",
        "val_loader = DataLoader(val_dataset, batch_size=batch_size)\n",
        "test_loader = DataLoader(test_dataset, batch_size=batch_size)\n"
      ]
    },
    {
      "cell_type": "markdown",
      "metadata": {
        "id": "aszAmfB5yf7y"
      },
      "source": [
        "Neural network architecture"
      ]
    },
    {
      "cell_type": "code",
      "execution_count": null,
      "metadata": {
        "id": "26cUxJoXyh6E"
      },
      "outputs": [],
      "source": [
        "class RegressionModel(nn.Module):\n",
        "    def __init__(self):\n",
        "        super(RegressionModel, self).__init__()\n",
        "        self.conv1 = nn.Conv1d(in_channels=8, out_channels=32, kernel_size=3, padding=1)\n",
        "        self.conv2 = nn.Conv1d(in_channels=32, out_channels=128, kernel_size=3, padding=1)\n",
        "        self.pool = nn.MaxPool1d(kernel_size=2, stride=2)\n",
        "        self.fc1 = nn.Linear(128 * 625, 256)\n",
        "        self.fc2 = nn.Linear(256, 64)\n",
        "        self.fc3 = nn.Linear(64, 2)\n",
        "        self.relu = nn.ReLU6(inplace=True)\n",
        "        self.dropout = nn.Dropout(0.3)\n",
        "        self.layer_norm = nn.LayerNorm(256)\n",
        "\n",
        "        for m in self.modules():\n",
        "            if isinstance(m, nn.Conv1d):\n",
        "                nn.init.kaiming_uniform_(m.weight, nonlinearity='relu')\n",
        "            elif isinstance(m, nn.Linear):\n",
        "                nn.init.kaiming_uniform_(m.weight, nonlinearity='relu')\n",
        "\n",
        "    def forward(self, x):\n",
        "        x = x.transpose(1, 2)\n",
        "        x = self.conv1(x)\n",
        "        x = self.relu(x)\n",
        "        x = self.pool(x)\n",
        "        x = self.conv2(x)\n",
        "        x = self.relu(x)\n",
        "        x = self.pool(x)\n",
        "        x = x.view(x.size(0), -1)\n",
        "        x = self.fc1(x)\n",
        "        x = self.layer_norm(x)\n",
        "        x = self.relu(x)\n",
        "        x = self.dropout(x)\n",
        "        x = self.fc2(x)\n",
        "        x = self.relu(x)\n",
        "        x = self.fc3(x)\n",
        "        return x\n",
        "\n",
        "device = torch.device(\"cuda\" if torch.cuda.is_available() else \"cpu\")\n",
        "\n",
        "model = RegressionModel()\n",
        "model.to(device)\n",
        "criterion = nn.HuberLoss()\n",
        "optimizer = optim.Adam(model.parameters())\n",
        "num_epochs = 200"
      ]
    },
    {
      "cell_type": "markdown",
      "metadata": {
        "id": "d2n2lRYEyy6J"
      },
      "source": [
        "Training the model"
      ]
    },
    {
      "cell_type": "code",
      "execution_count": null,
      "metadata": {
        "colab": {
          "base_uri": "https://localhost:8080/"
        },
        "id": "yAQS--MWy0KB",
        "outputId": "ead6366d-0305-4328-bb65-44023c74e60f"
      },
      "outputs": [],
      "source": [
        "for epoch in range(num_epochs):\n",
        "    model.train()\n",
        "    train_loss = 0.0\n",
        "    for inputs, targets in train_loader:\n",
        "        inputs, targets = inputs.to(device), targets.to(device)\n",
        "        optimizer.zero_grad()\n",
        "        outputs = model(inputs)\n",
        "        loss = criterion(outputs, targets)\n",
        "        loss.backward()\n",
        "        optimizer.step()\n",
        "        train_loss += loss.item() * inputs.size(0)\n",
        "\n",
        "    # Validation\n",
        "    model.eval()\n",
        "    val_loss = 0.0\n",
        "    with torch.no_grad():\n",
        "        for inputs, targets in val_loader:\n",
        "            inputs, targets = inputs.to(device), targets.to(device)\n",
        "            outputs = model(inputs)\n",
        "            loss = criterion(outputs, targets)\n",
        "            val_loss += loss.item() * inputs.size(0)\n",
        "\n",
        "    # Print training and validation loss\n",
        "    print(f'Epoch {epoch+1}/{num_epochs}, Train Loss: {train_loss/len(train_loader.dataset)}, Val Loss: {val_loss/len(val_loader.dataset)}')"
      ]
    },
    {
      "cell_type": "markdown",
      "metadata": {
        "id": "Y2hJrfwXzJSp"
      },
      "source": [
        "Evaluate the model"
      ]
    },
    {
      "cell_type": "code",
      "execution_count": null,
      "metadata": {
        "colab": {
          "base_uri": "https://localhost:8080/"
        },
        "id": "dOz0zSpSzKnL",
        "outputId": "deafe282-7cea-4143-f1f9-12d49dc97538"
      },
      "outputs": [],
      "source": [
        "test_loss = 0.0\n",
        "with torch.no_grad():\n",
        "    for X_batch, y_batch in test_loader:\n",
        "        X_batch, y_batch = X_batch.to(device), y_batch.to(device)\n",
        "        outputs = model(X_batch)\n",
        "        loss = criterion(outputs, y_batch)\n",
        "        test_loss += loss.item() * X_batch.size(0)\n",
        "\n",
        "test_loss /= len(test_loader.dataset)\n",
        "print(f'Test Loss: {test_loss:.4f}')"
      ]
    }
  ],
  "metadata": {
    "accelerator": "GPU",
    "colab": {
      "gpuType": "T4",
      "provenance": []
    },
    "kernelspec": {
      "display_name": "Python 3",
      "name": "python3"
    },
    "language_info": {
      "codemirror_mode": {
        "name": "ipython",
        "version": 3
      },
      "file_extension": ".py",
      "mimetype": "text/x-python",
      "name": "python",
      "nbconvert_exporter": "python",
      "pygments_lexer": "ipython3",
      "version": "3.12.3"
    }
  },
  "nbformat": 4,
  "nbformat_minor": 0
}
